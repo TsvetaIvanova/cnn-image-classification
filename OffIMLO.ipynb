{
  "cells": [
    {
      "cell_type": "markdown",
      "metadata": {
        "id": "view-in-github",
        "colab_type": "text"
      },
      "source": [
        "<a href=\"https://colab.research.google.com/github/TsvetaIvanova/ColabIMLO/blob/main/OffIMLO.ipynb\" target=\"_parent\"><img src=\"https://colab.research.google.com/assets/colab-badge.svg\" alt=\"Open In Colab\"/></a>"
      ]
    },
    {
      "cell_type": "markdown",
      "metadata": {
        "id": "l08PFO2OOMwh"
      },
      "source": [
        "Running instructions"
      ]
    },
    {
      "cell_type": "markdown",
      "metadata": {
        "id": "y7VtSU6COScK"
      },
      "source": [
        "## imports"
      ]
    },
    {
      "cell_type": "code",
      "execution_count": null,
      "metadata": {
        "id": "Ekt1a48sP2_n"
      },
      "outputs": [],
      "source": [
        "import pandas as pd\n",
        "from sklearn import datasets\n",
        "import torch\n",
        "import torch.nn as nn\n",
        "import torch.nn.functional as F\n",
        "import torch.optim as optim\n",
        "from torch.utils.data import DataLoader, ConcatDataset\n",
        "from sklearn.model_selection import train_test_split\n",
        "import matplotlib.pyplot as plt\n",
        "%matplotlib inline\n",
        "import torchvision\n",
        "from torchvision import datasets, transforms\n",
        "from torch.utils.data import DataLoader\n",
        "from torchvision.transforms import ToTensor, transforms\n",
        "import time\n",
        "from PIL import Image\n",
        "from scipy.io import loadmat\n",
        "import matplotlib.pyplot as plt"
      ]
    },
    {
      "cell_type": "markdown",
      "metadata": {
        "id": "RwgkPUqROJ4y"
      },
      "source": []
    },
    {
      "cell_type": "markdown",
      "metadata": {
        "id": "kQDKWFP-TnvE"
      },
      "source": [
        "#Get full dataset into dataframe\n"
      ]
    },
    {
      "cell_type": "markdown",
      "metadata": {
        "id": "x1V1fZRvOK1G"
      },
      "source": []
    },
    {
      "cell_type": "code",
      "execution_count": null,
      "metadata": {
        "colab": {
          "base_uri": "https://localhost:8080/"
        },
        "id": "U0CfvlGlgQMy",
        "outputId": "4996e704-9bb8-4097-beea-3d317e529f0f"
      },
      "outputs": [
        {
          "output_type": "stream",
          "name": "stdout",
          "text": [
            "2.2.1+cu121\n"
          ]
        }
      ],
      "source": [
        "print(torch.__version__)\n",
        "# !pip install torch==2.2.2"
      ]
    },
    {
      "cell_type": "markdown",
      "metadata": {
        "id": "gbLccXu4QTxr"
      },
      "source": [
        "# Get and process data\n"
      ]
    },
    {
      "cell_type": "code",
      "execution_count": null,
      "metadata": {
        "colab": {
          "base_uri": "https://localhost:8080/"
        },
        "id": "tU9o9D2T69fX",
        "outputId": "9e8a35b2-1a71-432a-bc2c-a42915738e8f"
      },
      "outputs": [
        {
          "output_type": "stream",
          "name": "stdout",
          "text": [
            "Using cuda device\n"
          ]
        }
      ],
      "source": [
        "device = (\n",
        "    \"cuda\"\n",
        "    if torch.cuda.is_available()\n",
        "    else \"mps\"\n",
        "    if torch.backends.mps.is_available()\n",
        "    else \"cpu\"\n",
        ")\n",
        "print(f\"Using {device} device\")\n"
      ]
    },
    {
      "cell_type": "code",
      "execution_count": null,
      "metadata": {
        "id": "I_EYt55TGsWM"
      },
      "outputs": [],
      "source": [
        "# # plain vanilla transforms just to get my mean and std\n",
        "# calc_transform = transforms.Compose([\n",
        "#     transforms.Resize(128),\n",
        "#     transforms.CenterCrop(116),\n",
        "#     transforms.ToTensor()\n",
        "# ])\n",
        "\n",
        "# # Loading the dataset\n",
        "# training_set = datasets.Flowers102(root='data', split='train', download=True, transform=calc_transform)\n",
        "# valid_set = datasets.Flowers102(root='data', split='val', download=True, transform=calc_transform)\n",
        "\n",
        "# # Combining datasets if I am allowed need to ask tomorrow\n",
        "# combo_set = ConcatDataset([training_set, valid_set])\n",
        "# combo_loader = DataLoader(combo_set, batch_size=16, shuffle=True)\n",
        "\n",
        "# # Function to calculate mean and std\n",
        "# def calc_mean_std(loader):\n",
        "#     mean = 0.\n",
        "#     std = 0.\n",
        "#     total_images_count = 0\n",
        "\n",
        "#     for images, _ in loader:\n",
        "#         image_count_in_batch = images.size(0)\n",
        "#         images = images.view(image_count_in_batch, images.size(1), -1)\n",
        "#         mean += images.mean(2).sum(0)\n",
        "#         std += images.std(2).sum(0)\n",
        "#         total_images_count += image_count_in_batch\n",
        "\n",
        "#     mean /= total_images_count\n",
        "#     std /= total_images_count\n",
        "\n",
        "#     return mean, std\n",
        "\n",
        "# # Calculate mean and std\n",
        "# mean, std = calc_mean_std(combo_loader)\n",
        "# print(f'# transforms.Normalize(mean={mean}, std={std})')"
      ]
    },
    {
      "cell_type": "code",
      "execution_count": null,
      "metadata": {
        "id": "2sMfEGZDmvL4"
      },
      "outputs": [],
      "source": [
        "data_train_transform = transforms.Compose([\n",
        "    transforms.Resize(128),\n",
        "    transforms.CenterCrop(116),\n",
        "    #transforms.RandomResizedCrop(128),\n",
        "    transforms.RandomHorizontalFlip(),\n",
        "    transforms.RandomRotation(15),\n",
        "    transforms.ToTensor(),\n",
        "    #transforms.Normalize(mean=([0.5014, 0.4112, 0.3327]), std=([0.2578, 0.2079, 0.2205])),\n",
        "    transforms.Normalize(mean=[0.485, 0.456, 0.406], std=[0.229, 0.224, 0.225])\n",
        "])\n",
        "data_val_transform = transforms.Compose([\n",
        "    transforms.Resize(128),\n",
        "    transforms.CenterCrop(116),\n",
        "    #transforms.RandomResizedCrop(128),\n",
        "    transforms.RandomHorizontalFlip(),\n",
        "    transforms.RandomRotation(15),\n",
        "    transforms.ToTensor(),\n",
        "    #transforms.Normalize(mean=([0.5014, 0.4112, 0.3327]), std=([0.2578, 0.2079, 0.2205])),\n",
        "    transforms.Normalize(mean=[0.485, 0.456, 0.406], std=[0.229, 0.224, 0.225])\n",
        "])\n",
        "data_test_transform = transforms.Compose([\n",
        "    transforms.Resize(128),\n",
        "    transforms.CenterCrop(116),\n",
        "    transforms.ToTensor(),\n",
        "    #transforms.Normalize(mean=([0.5014, 0.4112, 0.3327]), std=([0.2578, 0.2079, 0.2205]))\n",
        "    transforms.Normalize(mean=[0.485, 0.456, 0.406], std=[0.229, 0.224, 0.225])\n",
        "])\n",
        "\n",
        "\n"
      ]
    },
    {
      "cell_type": "code",
      "execution_count": null,
      "metadata": {
        "id": "2lZyZ2SpReNV"
      },
      "outputs": [],
      "source": [
        "def show_image(dataset, index=0):\n",
        "    image, label = dataset[index]\n",
        "    image = transforms.ToPILImage()(image)\n",
        "    plt.imshow(image)\n",
        "    plt.title(f'Label: {label}')\n",
        "    plt.show()\n",
        "\n",
        "\n"
      ]
    },
    {
      "cell_type": "code",
      "execution_count": null,
      "metadata": {
        "id": "dv8mUlZwocLv"
      },
      "outputs": [],
      "source": [
        "train_set = datasets.Flowers102(root='data', split='train', download=True, transform=data_train_transform)\n",
        "test_set = datasets.Flowers102(root='data', split='test', download=True, transform=data_test_transform)\n",
        "val_set = datasets.Flowers102(root='data', split='val', download=True, transform=data_val_transform)\n",
        "\n",
        "\n",
        "# creating data loaders\n",
        "\n",
        "train_loader = DataLoader(dataset=train_set, batch_size=16, shuffle=True)\n",
        "test_loader = DataLoader(test_set, batch_size=32, shuffle=False)\n",
        "val_loader = DataLoader(dataset=val_set, batch_size=16, shuffle=False)\n",
        "\n",
        "\n"
      ]
    },
    {
      "cell_type": "code",
      "execution_count": null,
      "metadata": {
        "colab": {
          "base_uri": "https://localhost:8080/",
          "height": 452
        },
        "id": "DOyROY8P356M",
        "outputId": "70a52107-481c-4b32-a2bd-fdb6de323091"
      },
      "outputs": [
        {
          "output_type": "display_data",
          "data": {
            "text/plain": [
              "<Figure size 640x480 with 1 Axes>"
            ],
            "image/png": "[encoded data removed]"
          },
          "metadata": {}
        }
      ],
      "source": [
        "show_image(train_set)"
      ]
    },
    {
      "cell_type": "markdown",
      "metadata": {
        "id": "sVqetB6dodR1"
      },
      "source": [
        "## using the datasets.Flowers102 function"
      ]
    },
    {
      "cell_type": "markdown",
      "metadata": {
        "id": "n4NZf_gGZBXI"
      },
      "source": [
        "# preprocess data for training\n"
      ]
    },
    {
      "cell_type": "markdown",
      "metadata": {
        "id": "LBVjF1c1x-jM"
      },
      "source": [
        "# Test"
      ]
    },
    {
      "cell_type": "markdown",
      "metadata": {
        "id": "g6RujhkS8g3P"
      },
      "source": [
        "# NN Architecture(Neural Network)\n"
      ]
    },
    {
      "cell_type": "markdown",
      "metadata": {
        "id": "mSy5B5ndV1m0"
      },
      "source": [
        "## define the model"
      ]
    },
    {
      "cell_type": "code",
      "execution_count": null,
      "metadata": {
        "id": "nRCSc9mA8pTE"
      },
      "outputs": [],
      "source": [
        "\n",
        "# # 37% not too bad\n",
        "# class ConvNN(nn.Module):\n",
        "#     def __init__(self, hidden_units=128):\n",
        "#         super(ConvNN, self).__init__()\n",
        "#         self.hidden_units = hidden_units\n",
        "#         self.conv1 = nn.Conv2d(3, 32, kernel_size=3, stride=1, padding=1)\n",
        "#         self.conv2 = nn.Conv2d(32, 64, kernel_size=3, stride=1, padding=1)\n",
        "#         self.conv3 = nn.Conv2d(64, hidden_units, kernel_size=3, stride=1, padding=1)\n",
        "#         self.conv4 = nn.Conv2d(hidden_units, hidden_units, kernel_size=3, stride=1, padding=1)\n",
        "#         self.bn1 = nn.BatchNorm2d(32)\n",
        "#         self.bn2 = nn.BatchNorm2d(64)\n",
        "#         self.bn3 = nn.BatchNorm2d(hidden_units)\n",
        "#         self.pool = nn.MaxPool2d(2, 2)\n",
        "#         self.fc1 = nn.Linear(hidden_units * 14 * 14, 512)\n",
        "#         self.fc2 = nn.Linear(512, 102)\n",
        "#         self.dropout2 = nn.Dropout(0.5)\n",
        "\n",
        "#     def forward(self, x):\n",
        "#         x = F.relu(self.bn1(self.conv1(x)))\n",
        "#         x = self.pool(x)\n",
        "#         x = F.relu(self.bn2(self.conv2(x)))\n",
        "#         x = self.pool(x)\n",
        "#         x = F.relu(self.bn3(self.conv3(x)))\n",
        "#         x = self.pool(x)\n",
        "#         x = F.relu(self.conv4(x))\n",
        "#         # print(x.shape)\n",
        "#         x = x.view(-1, self.hidden_units * 14 * 14)  # flatten\n",
        "#         x = F.relu(self.fc1(x))\n",
        "#         x = self.dropout2(x)\n",
        "#         x = self.fc2(x)\n",
        "#         return x\n",
        "\n",
        "\n",
        "# Simplified, for now it performs best\n",
        "\n",
        "class ConvNN(nn.Module):\n",
        "    def __init__(self):\n",
        "        super(ConvNN, self).__init__()\n",
        "        self.conv1 = nn.Conv2d(3, 64, kernel_size=3, padding=1)\n",
        "        self.bn1 = nn.BatchNorm2d(64)\n",
        "        self.conv2 = nn.Conv2d(64, 128, kernel_size=3, padding=1)\n",
        "        self.bn2 = nn.BatchNorm2d(128)\n",
        "        self.conv3 = nn.Conv2d(128, 256, kernel_size=3, padding=1)\n",
        "        self.bn3 = nn.BatchNorm2d(256)\n",
        "        self.pool = nn.MaxPool2d(2, 2)\n",
        "        self.fc1 = nn.Linear(256 * 14 * 14, 512)\n",
        "        self.dropout1 = nn.Dropout(0.5)\n",
        "        self.fc2 = nn.Linear(512, 102)\n",
        "\n",
        "    def forward(self, x):\n",
        "        x = F.relu(self.bn1(self.pool(self.conv1(x))))\n",
        "        x = F.relu(self.bn2(self.pool(self.conv2(x))))\n",
        "        x = F.relu(self.bn3(self.pool(self.conv3(x))))\n",
        "        # print(x.shape)\n",
        "        x = x.view(-1, 256 * 14 * 14)\n",
        "        x = F.relu(self.fc1(self.dropout1(x)))\n",
        "        x = self.fc2(x)\n",
        "        return x\n",
        "\n",
        "\n",
        "\n",
        "\n",
        "\n",
        "\n",
        "# class ConvNN(nn.Module):\n",
        "#     # def __init__(self, input_shape: int, hidden_units: int, output_shape: int):\n",
        "#     #     super().__init__()\n",
        "#     #     self.layer_stack = nn.Sequential(\n",
        "#     #         nn.Flatten(), # neural networks like their inputs in vector form\n",
        "#     #         nn.Linear(in_features=input_shape, out_features=hidden_units), # in_features = number of features in a data sample (784 pixels)\n",
        "#     #         nn.Linear(in_features=hidden_units, out_features=output_shape)\n",
        "#     #     )\n",
        "\n",
        "#     # def forward(self, x):\n",
        "#     #     return self.layer_stack(x)\n",
        "\n",
        "#     def __init__(self, hidden_units=128):\n",
        "#          super(ConvNN, self).__init__()\n",
        "#          self.hidden_units=hidden_units\n",
        "#          self.conv1 = nn.Conv2d(3, 32, kernel_size=3, stride=(1, 1), padding=1, bias=True)\n",
        "#          self.conv2 = nn.Conv2d(32, 64, kernel_size=3, stride=(1, 1), padding=1, bias=True)\n",
        "#          self.conv3 = nn.Conv2d(64, hidden_units, kernel_size=3, stride=(1, 1), padding=1, bias=True)\n",
        "#          self.conv4 = nn.Conv2d(hidden_units, hidden_units, kernel_size=3, stride=(1, 1), padding=1, bias=True)\n",
        "#          self.conv5 = nn.Conv2d(128, 256, kernel_size=3, stride=(1, 1), padding=1, bias=True)\n",
        "#          self.conv6 = nn.Conv2d(256, 256, kernel_size=3, stride=(1, 1), padding=1, bias=True)\n",
        "#          self.conv7 = nn.Conv2d(256, 512, kernel_size=3, stride=(1, 1), padding=1, bias=True)\n",
        "#          self.conv8 = nn.Conv2d(512, 512, kernel_size=3, stride=(1, 1), padding=1, bias=True)\n",
        "#          self.bn1 = nn.BatchNorm2d(32)\n",
        "#          self.bn2 = nn.BatchNorm2d(64)\n",
        "#          self.bn3 = nn.BatchNorm2d(hidden_units)\n",
        "\n",
        "#          self.pool = nn.MaxPool2d(2, 2, padding=0)\n",
        "#          self.fc1 = nn.Linear(hidden_units * 14 * 14, 512)\n",
        "#          self.fc2 = nn.Linear(512, 102)\n",
        "#          # self.dropout1 = nn.Dropout(0.15)\n",
        "#          self.dropout2 = nn.Dropout(0.5)\n",
        "\n",
        "\n",
        "\n",
        "\n",
        "#         #x = self.pool(F.relu(self.bn1(self.conv1(x))))\n",
        "#         #x = self.pool(F.relu(self.bn2(self.conv2(x))))\n",
        "\n",
        "\n",
        "#         #x = F.relu(self.fc1(x))\n",
        "#         #\n",
        "#         #x = self.fc2(x)\n",
        "#         #return x\n",
        "#         #x = self.flatten(x)\n",
        "#         #logits = self.linear_relu_stack(x)\n",
        "#         #return logits\n",
        "#     def forward(self, x):\n",
        "#         x = self.pool(F.relu(self.bn1(self.conv1(x))))\n",
        "#         # x = F.relu(self.conv1(x))\n",
        "#         x = self.pool(F.relu(self.bn2(self.conv2(x))))\n",
        "#         # x = F.relu(self.conv3(x))\n",
        "#         x = self.pool(F.relu(self.bn3(self.conv3(x))))\n",
        "#         x = self.pool(F.relu((self.conv4(x))))\n",
        "#         x = self.pool(F.relu((self.conv5(x))))\n",
        "#         x = self.pool(F.relu((self.conv6(x))))\n",
        "#         x = self.pool(F.relu((self.conv7(x))))\n",
        "#         x = self.pool(F.relu((self.conv8(x))))\n",
        "#         # x = self.pool(F.relu(self.conv2(x)))\n",
        "\n",
        "#         # print(x.shape)\n",
        "#         x = x.view(-1, self.hidden_units * 14 * 14) # Flatten the output for the dense layer\n",
        "#         x = F.relu(self.fc1(x))\n",
        "#         # x = self.dropout1(x)\n",
        "#         x = self.dropout2(x)\n",
        "#         x = self.fc2(x)\n",
        "#         return x\n",
        "\n",
        "\n",
        "\n"
      ]
    },
    {
      "cell_type": "code",
      "execution_count": null,
      "metadata": {
        "id": "swfW5JeRWtqy"
      },
      "outputs": [],
      "source": [
        "def train(dataloader, model, loss_fn, optimizer):\n",
        "    total_loss = 0\n",
        "    model.train()\n",
        "    for batch, (X, y) in enumerate(dataloader):\n",
        "        X, y = X.to(device), y.to(device)\n",
        "\n",
        "        optimizer.zero_grad()\n",
        "        outputs = model(X)\n",
        "        loss = loss_fn(outputs, y)\n",
        "        loss.backward()\n",
        "        optimizer.step()\n",
        "\n",
        "        total_loss += loss.item()\n",
        "\n",
        "        if batch % 10 == 0:\n",
        "            print(f'Epoch {t+1}, Batch {batch}, Loss: {loss.item():.4f}')\n",
        "\n",
        "        # Time each batch processing\n",
        "        if batch == 0:\n",
        "            start_time = time.time()\n",
        "        elif batch == 1:\n",
        "            elapsed_time = time.time() - start_time\n",
        "            print(f\"Time per batch: {elapsed_time:.2f} seconds\")\n",
        "\n",
        "    average_loss = total_loss / len(dataloader)\n",
        "    print(f'Average Loss: {average_loss:.4f}')"
      ]
    },
    {
      "cell_type": "code",
      "execution_count": null,
      "metadata": {
        "id": "lL97j7H8W-IY"
      },
      "outputs": [],
      "source": [
        "def test(dataloader, model, loss_fn):\n",
        "    size = len(dataloader.dataset)\n",
        "    num_batches = len(dataloader)\n",
        "    model.eval()\n",
        "    test_loss, correct = 0, 0\n",
        "    with torch.no_grad():\n",
        "        for X, y in dataloader:\n",
        "            X, y = X.to(device), y.to(device)\n",
        "            pred = model(X)\n",
        "            test_loss += loss_fn(pred, y).item()\n",
        "            correct += (pred.argmax(1) == y).type(torch.float).sum().item()\n",
        "    test_loss /= num_batches\n",
        "    correct /= size\n",
        "    print(f\"Test Error: \\n Accuracy: {(100*correct):>0.1f}%, Avg loss: {test_loss:>8f} \\n\")"
      ]
    },
    {
      "cell_type": "code",
      "execution_count": null,
      "metadata": {
        "colab": {
          "base_uri": "https://localhost:8080/"
        },
        "id": "gtCQyr07Wbq7",
        "outputId": "91357828-c96e-4a0e-ad96-8f15cfedd527"
      },
      "outputs": [
        {
          "output_type": "stream",
          "name": "stdout",
          "text": [
            "ConvNN(\n",
            "  (conv1): Conv2d(3, 64, kernel_size=(3, 3), stride=(1, 1), padding=(1, 1))\n",
            "  (bn1): BatchNorm2d(64, eps=1e-05, momentum=0.1, affine=True, track_running_stats=True)\n",
            "  (conv2): Conv2d(64, 128, kernel_size=(3, 3), stride=(1, 1), padding=(1, 1))\n",
            "  (bn2): BatchNorm2d(128, eps=1e-05, momentum=0.1, affine=True, track_running_stats=True)\n",
            "  (conv3): Conv2d(128, 256, kernel_size=(3, 3), stride=(1, 1), padding=(1, 1))\n",
            "  (bn3): BatchNorm2d(256, eps=1e-05, momentum=0.1, affine=True, track_running_stats=True)\n",
            "  (pool): MaxPool2d(kernel_size=2, stride=2, padding=0, dilation=1, ceil_mode=False)\n",
            "  (fc1): Linear(in_features=50176, out_features=512, bias=True)\n",
            "  (dropout1): Dropout(p=0.5, inplace=False)\n",
            "  (fc2): Linear(in_features=512, out_features=102, bias=True)\n",
            ")\n"
          ]
        }
      ],
      "source": [
        "#model = ConvNN(hidden_units=128).to(device)\n",
        "model = ConvNN().to(device)\n",
        "print(model)\n",
        "\n",
        "# LossFN\n",
        "loss_fn = nn.CrossEntropyLoss()\n",
        "# optimizer = torch.optim.Adam(model.parameters(), lr=0.001)\n",
        "# Lower learning rate\n",
        "optimizer = torch.optim.SGD(model.parameters(), lr=0.001, momentum=0.9)\n",
        "\n"
      ]
    },
    {
      "cell_type": "markdown",
      "metadata": {
        "id": "AElWXT8OtyfR"
      },
      "source": [
        "# Train and Evaluation\n"
      ]
    },
    {
      "cell_type": "code",
      "execution_count": null,
      "metadata": {
        "colab": {
          "base_uri": "https://localhost:8080/"
        },
        "id": "5pBum03crxh3",
        "outputId": "516cc317-2bfb-4945-b538-2c1e2ff5d9c8"
      },
      "outputs": [
        {
          "output_type": "stream",
          "name": "stdout",
          "text": [
            "Epoch 1\n",
            "-------------------------------\n",
            "Epoch 1, Batch 0, Loss: 4.7333\n",
            "Time per batch: 0.09 seconds\n",
            "Epoch 1, Batch 10, Loss: 4.6643\n",
            "Epoch 1, Batch 20, Loss: 4.8296\n",
            "Epoch 1, Batch 30, Loss: 4.7641\n",
            "Epoch 1, Batch 40, Loss: 4.2588\n",
            "Epoch 1, Batch 50, Loss: 4.4771\n",
            "Epoch 1, Batch 60, Loss: 4.3825\n",
            "Average Loss: 4.5134\n",
            "Epoch 2\n",
            "-------------------------------\n",
            "Epoch 2, Batch 0, Loss: 4.3843\n",
            "Time per batch: 0.08 seconds\n",
            "Epoch 2, Batch 10, Loss: 4.3330\n",
            "Epoch 2, Batch 20, Loss: 4.1791\n",
            "Epoch 2, Batch 30, Loss: 3.5340\n",
            "Epoch 2, Batch 40, Loss: 3.9098\n",
            "Epoch 2, Batch 50, Loss: 3.8197\n",
            "Epoch 2, Batch 60, Loss: 3.4445\n",
            "Average Loss: 3.7134\n",
            "Epoch 3\n",
            "-------------------------------\n",
            "Epoch 3, Batch 0, Loss: 3.3546\n",
            "Time per batch: 0.08 seconds\n",
            "Epoch 3, Batch 10, Loss: 2.4291\n",
            "Epoch 3, Batch 20, Loss: 3.2077\n",
            "Epoch 3, Batch 30, Loss: 3.4664\n",
            "Epoch 3, Batch 40, Loss: 3.3867\n",
            "Epoch 3, Batch 50, Loss: 3.6059\n",
            "Epoch 3, Batch 60, Loss: 3.0095\n",
            "Average Loss: 3.1314\n",
            "Epoch 4\n",
            "-------------------------------\n",
            "Epoch 4, Batch 0, Loss: 2.0834\n",
            "Time per batch: 0.08 seconds\n",
            "Epoch 4, Batch 10, Loss: 2.2193\n",
            "Epoch 4, Batch 20, Loss: 1.8567\n",
            "Epoch 4, Batch 30, Loss: 2.3122\n",
            "Epoch 4, Batch 40, Loss: 2.9549\n",
            "Epoch 4, Batch 50, Loss: 2.5299\n",
            "Epoch 4, Batch 60, Loss: 2.2131\n",
            "Average Loss: 2.6098\n",
            "Epoch 5\n",
            "-------------------------------\n",
            "Epoch 5, Batch 0, Loss: 2.4713\n",
            "Time per batch: 0.08 seconds\n",
            "Epoch 5, Batch 10, Loss: 1.7134\n",
            "Epoch 5, Batch 20, Loss: 2.5595\n",
            "Epoch 5, Batch 30, Loss: 2.2210\n",
            "Epoch 5, Batch 40, Loss: 2.5754\n",
            "Epoch 5, Batch 50, Loss: 1.7482\n",
            "Epoch 5, Batch 60, Loss: 2.5251\n",
            "Average Loss: 2.1617\n",
            "Epoch 6\n",
            "-------------------------------\n",
            "Epoch 6, Batch 0, Loss: 2.1145\n",
            "Time per batch: 0.08 seconds\n",
            "Epoch 6, Batch 10, Loss: 2.1049\n",
            "Epoch 6, Batch 20, Loss: 1.8105\n",
            "Epoch 6, Batch 30, Loss: 1.3636\n",
            "Epoch 6, Batch 40, Loss: 1.4483\n",
            "Epoch 6, Batch 50, Loss: 1.6476\n",
            "Epoch 6, Batch 60, Loss: 1.2285\n",
            "Average Loss: 1.7605\n",
            "Epoch 7\n",
            "-------------------------------\n",
            "Epoch 7, Batch 0, Loss: 1.3216\n",
            "Time per batch: 0.08 seconds\n",
            "Epoch 7, Batch 10, Loss: 0.8203\n",
            "Epoch 7, Batch 20, Loss: 1.5448\n",
            "Epoch 7, Batch 30, Loss: 1.6690\n",
            "Epoch 7, Batch 40, Loss: 1.5402\n",
            "Epoch 7, Batch 50, Loss: 1.4010\n",
            "Epoch 7, Batch 60, Loss: 1.5532\n",
            "Average Loss: 1.4872\n",
            "Epoch 8\n",
            "-------------------------------\n",
            "Epoch 8, Batch 0, Loss: 0.8444\n",
            "Time per batch: 0.08 seconds\n",
            "Epoch 8, Batch 10, Loss: 0.9884\n",
            "Epoch 8, Batch 20, Loss: 0.8371\n",
            "Epoch 8, Batch 30, Loss: 1.2023\n",
            "Epoch 8, Batch 40, Loss: 1.4627\n",
            "Epoch 8, Batch 50, Loss: 1.1567\n",
            "Epoch 8, Batch 60, Loss: 1.6274\n",
            "Average Loss: 1.1682\n",
            "Epoch 9\n",
            "-------------------------------\n",
            "Epoch 9, Batch 0, Loss: 1.2968\n",
            "Time per batch: 0.08 seconds\n",
            "Epoch 9, Batch 10, Loss: 0.8858\n",
            "Epoch 9, Batch 20, Loss: 0.4378\n",
            "Epoch 9, Batch 30, Loss: 0.8213\n",
            "Epoch 9, Batch 40, Loss: 1.1823\n",
            "Epoch 9, Batch 50, Loss: 1.3541\n",
            "Epoch 9, Batch 60, Loss: 0.9459\n",
            "Average Loss: 0.9870\n",
            "Epoch 10\n",
            "-------------------------------\n",
            "Epoch 10, Batch 0, Loss: 0.4820\n",
            "Time per batch: 0.08 seconds\n",
            "Epoch 10, Batch 10, Loss: 0.4384\n",
            "Epoch 10, Batch 20, Loss: 0.8428\n",
            "Epoch 10, Batch 30, Loss: 0.8442\n",
            "Epoch 10, Batch 40, Loss: 1.0891\n",
            "Epoch 10, Batch 50, Loss: 0.6368\n",
            "Epoch 10, Batch 60, Loss: 0.5607\n",
            "Average Loss: 0.7711\n",
            "Epoch 11\n",
            "-------------------------------\n",
            "Epoch 11, Batch 0, Loss: 0.6720\n",
            "Time per batch: 0.07 seconds\n",
            "Epoch 11, Batch 10, Loss: 0.8930\n",
            "Epoch 11, Batch 20, Loss: 0.3600\n",
            "Epoch 11, Batch 30, Loss: 0.4774\n",
            "Epoch 11, Batch 40, Loss: 0.3524\n",
            "Epoch 11, Batch 50, Loss: 0.5010\n",
            "Epoch 11, Batch 60, Loss: 0.5536\n",
            "Average Loss: 0.6012\n",
            "Epoch 12\n",
            "-------------------------------\n",
            "Epoch 12, Batch 0, Loss: 0.6218\n",
            "Time per batch: 0.08 seconds\n",
            "Epoch 12, Batch 10, Loss: 0.3585\n",
            "Epoch 12, Batch 20, Loss: 0.6159\n",
            "Epoch 12, Batch 30, Loss: 0.5273\n",
            "Epoch 12, Batch 40, Loss: 0.4029\n",
            "Epoch 12, Batch 50, Loss: 0.3834\n",
            "Epoch 12, Batch 60, Loss: 0.8369\n",
            "Average Loss: 0.5141\n",
            "Epoch 13\n",
            "-------------------------------\n",
            "Epoch 13, Batch 0, Loss: 0.1975\n",
            "Time per batch: 0.08 seconds\n",
            "Epoch 13, Batch 10, Loss: 0.5470\n",
            "Epoch 13, Batch 20, Loss: 0.8291\n",
            "Epoch 13, Batch 30, Loss: 0.3240\n",
            "Epoch 13, Batch 40, Loss: 0.3833\n",
            "Epoch 13, Batch 50, Loss: 0.3469\n",
            "Epoch 13, Batch 60, Loss: 0.3205\n",
            "Average Loss: 0.3892\n",
            "Epoch 14\n",
            "-------------------------------\n",
            "Epoch 14, Batch 0, Loss: 0.2337\n",
            "Time per batch: 0.10 seconds\n",
            "Epoch 14, Batch 10, Loss: 0.1511\n",
            "Epoch 14, Batch 20, Loss: 0.3411\n",
            "Epoch 14, Batch 30, Loss: 0.6728\n",
            "Epoch 14, Batch 40, Loss: 0.2971\n",
            "Epoch 14, Batch 50, Loss: 0.2369\n",
            "Epoch 14, Batch 60, Loss: 0.1505\n",
            "Average Loss: 0.3130\n",
            "Epoch 15\n",
            "-------------------------------\n",
            "Epoch 15, Batch 0, Loss: 0.1711\n",
            "Time per batch: 0.08 seconds\n",
            "Epoch 15, Batch 10, Loss: 0.4733\n",
            "Epoch 15, Batch 20, Loss: 0.2292\n",
            "Epoch 15, Batch 30, Loss: 0.1517\n",
            "Epoch 15, Batch 40, Loss: 0.2099\n",
            "Epoch 15, Batch 50, Loss: 0.3816\n",
            "Epoch 15, Batch 60, Loss: 0.6690\n",
            "Average Loss: 0.2736\n",
            "Epoch 16\n",
            "-------------------------------\n",
            "Epoch 16, Batch 0, Loss: 0.1291\n",
            "Time per batch: 0.08 seconds\n",
            "Epoch 16, Batch 10, Loss: 0.2076\n",
            "Epoch 16, Batch 20, Loss: 0.2656\n",
            "Epoch 16, Batch 30, Loss: 0.1537\n",
            "Epoch 16, Batch 40, Loss: 0.3504\n",
            "Epoch 16, Batch 50, Loss: 0.2375\n",
            "Epoch 16, Batch 60, Loss: 0.2840\n",
            "Average Loss: 0.2413\n",
            "Epoch 17\n",
            "-------------------------------\n",
            "Epoch 17, Batch 0, Loss: 0.1049\n",
            "Time per batch: 0.08 seconds\n",
            "Epoch 17, Batch 10, Loss: 0.2300\n",
            "Epoch 17, Batch 20, Loss: 0.2559\n",
            "Epoch 17, Batch 30, Loss: 0.2903\n",
            "Epoch 17, Batch 40, Loss: 0.0988\n",
            "Epoch 17, Batch 50, Loss: 0.3444\n",
            "Epoch 17, Batch 60, Loss: 0.2443\n",
            "Average Loss: 0.2176\n",
            "Epoch 18\n",
            "-------------------------------\n",
            "Epoch 18, Batch 0, Loss: 0.1653\n",
            "Time per batch: 0.08 seconds\n",
            "Epoch 18, Batch 10, Loss: 0.1177\n",
            "Epoch 18, Batch 20, Loss: 0.0660\n",
            "Epoch 18, Batch 30, Loss: 0.0431\n",
            "Epoch 18, Batch 40, Loss: 0.2377\n",
            "Epoch 18, Batch 50, Loss: 0.0317\n",
            "Epoch 18, Batch 60, Loss: 0.0960\n",
            "Average Loss: 0.1522\n",
            "Epoch 19\n",
            "-------------------------------\n",
            "Epoch 19, Batch 0, Loss: 0.0448\n",
            "Time per batch: 0.08 seconds\n",
            "Epoch 19, Batch 10, Loss: 0.1054\n",
            "Epoch 19, Batch 20, Loss: 0.0985\n",
            "Epoch 19, Batch 30, Loss: 0.0371\n",
            "Epoch 19, Batch 40, Loss: 0.0385\n",
            "Epoch 19, Batch 50, Loss: 0.1202\n",
            "Epoch 19, Batch 60, Loss: 0.0875\n",
            "Average Loss: 0.1552\n",
            "Epoch 20\n",
            "-------------------------------\n",
            "Epoch 20, Batch 0, Loss: 0.0517\n",
            "Time per batch: 0.08 seconds\n",
            "Epoch 20, Batch 10, Loss: 0.2807\n",
            "Epoch 20, Batch 20, Loss: 0.1425\n",
            "Epoch 20, Batch 30, Loss: 0.1645\n",
            "Epoch 20, Batch 40, Loss: 0.2121\n",
            "Epoch 20, Batch 50, Loss: 0.0934\n",
            "Epoch 20, Batch 60, Loss: 0.0426\n",
            "Average Loss: 0.1400\n",
            "Test Error: \n",
            " Accuracy: 45.4%, Avg loss: 2.541608 \n",
            "\n",
            "Epoch 21\n",
            "-------------------------------\n",
            "Epoch 21, Batch 0, Loss: 0.1720\n",
            "Time per batch: 0.08 seconds\n",
            "Epoch 21, Batch 10, Loss: 0.0986\n",
            "Epoch 21, Batch 20, Loss: 0.2501\n",
            "Epoch 21, Batch 30, Loss: 0.0471\n",
            "Epoch 21, Batch 40, Loss: 0.0235\n",
            "Epoch 21, Batch 50, Loss: 0.1503\n",
            "Epoch 21, Batch 60, Loss: 0.0506\n",
            "Average Loss: 0.1074\n",
            "Test Error: \n",
            " Accuracy: 44.7%, Avg loss: 2.558980 \n",
            "\n",
            "Epoch 22\n",
            "-------------------------------\n",
            "Epoch 22, Batch 0, Loss: 0.0891\n",
            "Time per batch: 0.08 seconds\n",
            "Epoch 22, Batch 10, Loss: 0.0525\n",
            "Epoch 22, Batch 20, Loss: 0.0172\n",
            "Epoch 22, Batch 30, Loss: 0.0924\n",
            "Epoch 22, Batch 40, Loss: 0.0768\n",
            "Epoch 22, Batch 50, Loss: 0.0235\n",
            "Epoch 22, Batch 60, Loss: 0.2393\n",
            "Average Loss: 0.0829\n",
            "Test Error: \n",
            " Accuracy: 44.3%, Avg loss: 2.638151 \n",
            "\n",
            "Epoch 23\n",
            "-------------------------------\n",
            "Epoch 23, Batch 0, Loss: 0.0574\n",
            "Time per batch: 0.08 seconds\n",
            "Epoch 23, Batch 10, Loss: 0.0729\n",
            "Epoch 23, Batch 20, Loss: 0.0316\n",
            "Epoch 23, Batch 30, Loss: 0.0610\n",
            "Epoch 23, Batch 40, Loss: 0.0364\n",
            "Epoch 23, Batch 50, Loss: 0.0329\n",
            "Epoch 23, Batch 60, Loss: 0.1043\n",
            "Average Loss: 0.0756\n",
            "Test Error: \n",
            " Accuracy: 44.2%, Avg loss: 2.657868 \n",
            "\n",
            "Epoch 24\n",
            "-------------------------------\n",
            "Epoch 24, Batch 0, Loss: 0.2010\n",
            "Time per batch: 0.08 seconds\n",
            "Epoch 24, Batch 10, Loss: 0.0332\n",
            "Epoch 24, Batch 20, Loss: 0.0556\n",
            "Epoch 24, Batch 30, Loss: 0.1001\n",
            "Epoch 24, Batch 40, Loss: 0.0556\n",
            "Epoch 24, Batch 50, Loss: 0.1302\n",
            "Epoch 24, Batch 60, Loss: 0.0309\n",
            "Average Loss: 0.0613\n",
            "Test Error: \n",
            " Accuracy: 43.8%, Avg loss: 2.632453 \n",
            "\n",
            "Epoch 25\n",
            "-------------------------------\n",
            "Epoch 25, Batch 0, Loss: 0.0314\n",
            "Time per batch: 0.08 seconds\n",
            "Epoch 25, Batch 10, Loss: 0.0142\n",
            "Epoch 25, Batch 20, Loss: 0.0868\n",
            "Epoch 25, Batch 30, Loss: 0.0346\n",
            "Epoch 25, Batch 40, Loss: 0.0470\n",
            "Epoch 25, Batch 50, Loss: 0.0229\n",
            "Epoch 25, Batch 60, Loss: 0.0433\n",
            "Average Loss: 0.0543\n",
            "Test Error: \n",
            " Accuracy: 46.1%, Avg loss: 2.611515 \n",
            "\n",
            "Epoch 26\n",
            "-------------------------------\n",
            "Epoch 26, Batch 0, Loss: 0.0491\n",
            "Time per batch: 0.09 seconds\n",
            "Epoch 26, Batch 10, Loss: 0.0353\n",
            "Epoch 26, Batch 20, Loss: 0.0290\n",
            "Epoch 26, Batch 30, Loss: 0.0643\n",
            "Epoch 26, Batch 40, Loss: 0.0261\n",
            "Epoch 26, Batch 50, Loss: 0.0264\n",
            "Epoch 26, Batch 60, Loss: 0.0455\n",
            "Average Loss: 0.0526\n",
            "Test Error: \n",
            " Accuracy: 44.6%, Avg loss: 2.628881 \n",
            "\n",
            "Epoch 27\n",
            "-------------------------------\n",
            "Epoch 27, Batch 0, Loss: 0.0236\n",
            "Time per batch: 0.08 seconds\n",
            "Epoch 27, Batch 10, Loss: 0.0155\n",
            "Epoch 27, Batch 20, Loss: 0.0352\n",
            "Epoch 27, Batch 30, Loss: 0.0357\n",
            "Epoch 27, Batch 40, Loss: 0.0724\n",
            "Epoch 27, Batch 50, Loss: 0.0363\n",
            "Epoch 27, Batch 60, Loss: 0.0355\n",
            "Average Loss: 0.0540\n",
            "Test Error: \n",
            " Accuracy: 44.6%, Avg loss: 2.608966 \n",
            "\n",
            "Epoch 28\n",
            "-------------------------------\n",
            "Epoch 28, Batch 0, Loss: 0.0158\n",
            "Time per batch: 0.08 seconds\n",
            "Epoch 28, Batch 10, Loss: 0.0212\n",
            "Epoch 28, Batch 20, Loss: 0.1066\n",
            "Epoch 28, Batch 30, Loss: 0.0292\n",
            "Epoch 28, Batch 40, Loss: 0.0314\n",
            "Epoch 28, Batch 50, Loss: 0.0683\n",
            "Epoch 28, Batch 60, Loss: 0.0459\n",
            "Average Loss: 0.0508\n",
            "Test Error: \n",
            " Accuracy: 43.6%, Avg loss: 2.630501 \n",
            "\n",
            "Epoch 29\n",
            "-------------------------------\n",
            "Epoch 29, Batch 0, Loss: 0.0242\n",
            "Time per batch: 0.08 seconds\n",
            "Epoch 29, Batch 10, Loss: 0.0298\n",
            "Epoch 29, Batch 20, Loss: 0.0129\n",
            "Epoch 29, Batch 30, Loss: 0.0440\n",
            "Epoch 29, Batch 40, Loss: 0.0221\n",
            "Epoch 29, Batch 50, Loss: 0.0269\n",
            "Epoch 29, Batch 60, Loss: 0.0176\n",
            "Average Loss: 0.0385\n",
            "Test Error: \n",
            " Accuracy: 44.1%, Avg loss: 2.620075 \n",
            "\n",
            "Epoch 30\n",
            "-------------------------------\n",
            "Epoch 30, Batch 0, Loss: 0.0552\n",
            "Time per batch: 0.07 seconds\n",
            "Epoch 30, Batch 10, Loss: 0.0458\n",
            "Epoch 30, Batch 20, Loss: 0.0505\n",
            "Epoch 30, Batch 30, Loss: 0.0168\n",
            "Epoch 30, Batch 40, Loss: 0.0183\n",
            "Epoch 30, Batch 50, Loss: 0.0402\n",
            "Epoch 30, Batch 60, Loss: 0.0114\n",
            "Average Loss: 0.0345\n",
            "Test Error: \n",
            " Accuracy: 45.8%, Avg loss: 2.620147 \n",
            "\n",
            "Epoch 31\n",
            "-------------------------------\n",
            "Epoch 31, Batch 0, Loss: 0.0353\n",
            "Time per batch: 0.08 seconds\n",
            "Epoch 31, Batch 10, Loss: 0.0140\n",
            "Epoch 31, Batch 20, Loss: 0.0743\n",
            "Epoch 31, Batch 30, Loss: 0.0140\n",
            "Epoch 31, Batch 40, Loss: 0.0187\n",
            "Epoch 31, Batch 50, Loss: 0.0151\n",
            "Epoch 31, Batch 60, Loss: 0.0181\n",
            "Average Loss: 0.0409\n",
            "Test Error: \n",
            " Accuracy: 45.0%, Avg loss: 2.696379 \n",
            "\n",
            "Epoch 32\n",
            "-------------------------------\n",
            "Epoch 32, Batch 0, Loss: 0.0152\n",
            "Time per batch: 0.08 seconds\n",
            "Epoch 32, Batch 10, Loss: 0.0589\n",
            "Epoch 32, Batch 20, Loss: 0.0175\n",
            "Epoch 32, Batch 30, Loss: 0.0259\n",
            "Epoch 32, Batch 40, Loss: 0.0461\n",
            "Epoch 32, Batch 50, Loss: 0.0390\n",
            "Epoch 32, Batch 60, Loss: 0.0173\n",
            "Average Loss: 0.0381\n",
            "Test Error: \n",
            " Accuracy: 45.4%, Avg loss: 2.653559 \n",
            "\n",
            "Epoch 33\n",
            "-------------------------------\n",
            "Epoch 33, Batch 0, Loss: 0.0109\n",
            "Time per batch: 0.08 seconds\n",
            "Epoch 33, Batch 10, Loss: 0.0154\n",
            "Epoch 33, Batch 20, Loss: 0.0155\n",
            "Epoch 33, Batch 30, Loss: 0.0216\n",
            "Epoch 33, Batch 40, Loss: 0.0102\n",
            "Epoch 33, Batch 50, Loss: 0.0302\n",
            "Epoch 33, Batch 60, Loss: 0.0249\n",
            "Average Loss: 0.0339\n",
            "Test Error: \n",
            " Accuracy: 43.7%, Avg loss: 2.724764 \n",
            "\n",
            "Epoch 34\n",
            "-------------------------------\n",
            "Epoch 34, Batch 0, Loss: 0.0328\n",
            "Time per batch: 0.08 seconds\n",
            "Epoch 34, Batch 10, Loss: 0.0216\n",
            "Epoch 34, Batch 20, Loss: 0.0132\n",
            "Epoch 34, Batch 30, Loss: 0.0607\n",
            "Epoch 34, Batch 40, Loss: 0.0197\n",
            "Epoch 34, Batch 50, Loss: 0.0170\n",
            "Epoch 34, Batch 60, Loss: 0.0170\n",
            "Average Loss: 0.0296\n",
            "Test Error: \n",
            " Accuracy: 45.2%, Avg loss: 2.597463 \n",
            "\n",
            "Epoch 35\n",
            "-------------------------------\n",
            "Epoch 35, Batch 0, Loss: 0.0484\n",
            "Time per batch: 0.08 seconds\n",
            "Epoch 35, Batch 10, Loss: 0.0161\n",
            "Epoch 35, Batch 20, Loss: 0.0906\n",
            "Epoch 35, Batch 30, Loss: 0.0114\n",
            "Epoch 35, Batch 40, Loss: 0.0188\n",
            "Epoch 35, Batch 50, Loss: 0.0764\n",
            "Epoch 35, Batch 60, Loss: 0.0302\n",
            "Average Loss: 0.0300\n",
            "Test Error: \n",
            " Accuracy: 44.4%, Avg loss: 2.652888 \n",
            "\n",
            "Epoch 36\n",
            "-------------------------------\n",
            "Epoch 36, Batch 0, Loss: 0.0152\n",
            "Time per batch: 0.08 seconds\n",
            "Epoch 36, Batch 10, Loss: 0.0516\n",
            "Epoch 36, Batch 20, Loss: 0.0220\n"
          ]
        }
      ],
      "source": [
        "epochs = 500\n",
        "for t in range(epochs):\n",
        "    print(f\"Epoch {t+1}\\n-------------------------------\")\n",
        "    train(train_loader, model, loss_fn, optimizer)\n",
        "    if t >= 19:\n",
        "      test(val_loader, model, loss_fn)\n",
        "print(\"Done!\")\n"
      ]
    },
    {
      "cell_type": "markdown",
      "metadata": {
        "id": "hSXwxxL8t98H"
      },
      "source": [
        "## split and format the dataset"
      ]
    },
    {
      "cell_type": "markdown",
      "metadata": {
        "id": "2ulhNS4PF4XI"
      },
      "source": [
        "## Create a checkpoint for the training and testing in case I have to pause"
      ]
    },
    {
      "cell_type": "markdown",
      "metadata": {
        "id": "OHW9Rk0dF_u1"
      },
      "source": [
        "## Create a visualisation"
      ]
    },
    {
      "cell_type": "code",
      "execution_count": null,
      "metadata": {
        "id": "HZUOZQovuCV_"
      },
      "outputs": [],
      "source": [
        "torch.save(model.state_dict(), \"model.pth\")\n",
        "print(\"Saved PyTorch Model State to model.pth\")"
      ]
    },
    {
      "cell_type": "code",
      "execution_count": null,
      "metadata": {
        "id": "ylAW-VTxYVp-"
      },
      "outputs": [],
      "source": [
        "model = ConvNN().to(device)\n",
        "model.load_state_dict(torch.load(\"model.pth\"))"
      ]
    },
    {
      "cell_type": "markdown",
      "metadata": {
        "id": "cNc3ABM20VO3"
      },
      "source": [
        "## Set training parameters"
      ]
    },
    {
      "cell_type": "markdown",
      "metadata": {
        "id": "DprXzJ-23AaY"
      },
      "source": [
        "## train"
      ]
    },
    {
      "cell_type": "markdown",
      "metadata": {
        "id": "4uvCNTZg5Rby"
      },
      "source": [
        "# Eval"
      ]
    },
    {
      "cell_type": "code",
      "execution_count": null,
      "metadata": {
        "id": "_GQvfsvI5TTZ"
      },
      "outputs": [],
      "source": [
        "model.eval()  # Set the model to evaluation mode\n",
        "with torch.no_grad():\n",
        "    correct = 0\n",
        "    total = 0\n",
        "    for images, labels in test_loader:\n",
        "        outputs = model(images)\n",
        "        _, predicted = torch.max(outputs.data, 1)\n",
        "        total += labels.size(0)\n",
        "        correct += (predicted == labels).sum().item()\n",
        "\n",
        "print(f'Accuracy of the network on the test images: {100 * correct / total} %')\n"
      ]
    },
    {
      "cell_type": "markdown",
      "metadata": {
        "id": "TzJ9O-vv-IgS"
      },
      "source": []
    }
  ],
  "metadata": {
    "accelerator": "GPU",
    "colab": {
      "gpuType": "A100",
      "provenance": [],
      "include_colab_link": true
    },
    "kernelspec": {
      "display_name": "Python 3",
      "name": "python3"
    },
    "language_info": {
      "name": "python"
    }
  },
  "nbformat": 4,
  "nbformat_minor": 0
}